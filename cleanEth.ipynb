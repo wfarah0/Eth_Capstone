{
 "cells": [
  {
   "cell_type": "code",
   "execution_count": 3,
   "id": "77818578",
   "metadata": {},
   "outputs": [],
   "source": [
    "import numpy as np\n",
    "import pandas as pd\n",
    "import matplotlib.pyplot as plt\n",
    "\n"
   ]
  },
  {
   "cell_type": "code",
   "execution_count": 4,
   "id": "18c7db08",
   "metadata": {},
   "outputs": [
    {
     "data": {
      "text/html": [
       "<div>\n",
       "<style scoped>\n",
       "    .dataframe tbody tr th:only-of-type {\n",
       "        vertical-align: middle;\n",
       "    }\n",
       "\n",
       "    .dataframe tbody tr th {\n",
       "        vertical-align: top;\n",
       "    }\n",
       "\n",
       "    .dataframe thead th {\n",
       "        text-align: right;\n",
       "    }\n",
       "</style>\n",
       "<table border=\"1\" class=\"dataframe\">\n",
       "  <thead>\n",
       "    <tr style=\"text-align: right;\">\n",
       "      <th></th>\n",
       "      <th>unix</th>\n",
       "      <th>date</th>\n",
       "      <th>symbol</th>\n",
       "      <th>open</th>\n",
       "      <th>high</th>\n",
       "      <th>low</th>\n",
       "      <th>close</th>\n",
       "      <th>Volume ETH</th>\n",
       "      <th>Volume USDT</th>\n",
       "      <th>tradecount</th>\n",
       "    </tr>\n",
       "  </thead>\n",
       "  <tbody>\n",
       "    <tr>\n",
       "      <th>0</th>\n",
       "      <td>1.630714e+12</td>\n",
       "      <td>2021-09-04 00:00:00</td>\n",
       "      <td>ETH/USDT</td>\n",
       "      <td>3938.11</td>\n",
       "      <td>3947.70</td>\n",
       "      <td>3913.62</td>\n",
       "      <td>3946.59</td>\n",
       "      <td>6635.24210</td>\n",
       "      <td>2.608113e+07</td>\n",
       "      <td>28103.0</td>\n",
       "    </tr>\n",
       "    <tr>\n",
       "      <th>1</th>\n",
       "      <td>1.630627e+12</td>\n",
       "      <td>2021-09-03 00:00:00</td>\n",
       "      <td>ETH/USDT</td>\n",
       "      <td>3785.82</td>\n",
       "      <td>4027.88</td>\n",
       "      <td>3705.05</td>\n",
       "      <td>3938.11</td>\n",
       "      <td>655903.75739</td>\n",
       "      <td>2.557663e+09</td>\n",
       "      <td>1678132.0</td>\n",
       "    </tr>\n",
       "    <tr>\n",
       "      <th>2</th>\n",
       "      <td>1.630541e+12</td>\n",
       "      <td>2021-09-02 00:00:00</td>\n",
       "      <td>ETH/USDT</td>\n",
       "      <td>3826.82</td>\n",
       "      <td>3836.80</td>\n",
       "      <td>3717.04</td>\n",
       "      <td>3785.82</td>\n",
       "      <td>525165.79960</td>\n",
       "      <td>1.981758e+09</td>\n",
       "      <td>1402190.0</td>\n",
       "    </tr>\n",
       "    <tr>\n",
       "      <th>3</th>\n",
       "      <td>1.630454e+12</td>\n",
       "      <td>2021-09-01 00:00:00</td>\n",
       "      <td>ETH/USDT</td>\n",
       "      <td>3429.19</td>\n",
       "      <td>3842.00</td>\n",
       "      <td>3382.22</td>\n",
       "      <td>3826.82</td>\n",
       "      <td>845759.95868</td>\n",
       "      <td>3.038499e+09</td>\n",
       "      <td>2022132.0</td>\n",
       "    </tr>\n",
       "    <tr>\n",
       "      <th>4</th>\n",
       "      <td>1.630368e+12</td>\n",
       "      <td>2021-08-31 00:00:00</td>\n",
       "      <td>ETH/USDT</td>\n",
       "      <td>3229.14</td>\n",
       "      <td>3476.00</td>\n",
       "      <td>3188.77</td>\n",
       "      <td>3429.20</td>\n",
       "      <td>863071.13092</td>\n",
       "      <td>2.895209e+09</td>\n",
       "      <td>1772849.0</td>\n",
       "    </tr>\n",
       "  </tbody>\n",
       "</table>\n",
       "</div>"
      ],
      "text/plain": [
       "           unix                 date    symbol     open     high      low  \\\n",
       "0  1.630714e+12  2021-09-04 00:00:00  ETH/USDT  3938.11  3947.70  3913.62   \n",
       "1  1.630627e+12  2021-09-03 00:00:00  ETH/USDT  3785.82  4027.88  3705.05   \n",
       "2  1.630541e+12  2021-09-02 00:00:00  ETH/USDT  3826.82  3836.80  3717.04   \n",
       "3  1.630454e+12  2021-09-01 00:00:00  ETH/USDT  3429.19  3842.00  3382.22   \n",
       "4  1.630368e+12  2021-08-31 00:00:00  ETH/USDT  3229.14  3476.00  3188.77   \n",
       "\n",
       "     close    Volume ETH   Volume USDT  tradecount  \n",
       "0  3946.59    6635.24210  2.608113e+07     28103.0  \n",
       "1  3938.11  655903.75739  2.557663e+09   1678132.0  \n",
       "2  3785.82  525165.79960  1.981758e+09   1402190.0  \n",
       "3  3826.82  845759.95868  3.038499e+09   2022132.0  \n",
       "4  3429.20  863071.13092  2.895209e+09   1772849.0  "
      ]
     },
     "execution_count": 4,
     "metadata": {},
     "output_type": "execute_result"
    }
   ],
   "source": [
    "data = pd.read_csv('eth_data.csv')\n",
    "data.head()"
   ]
  },
  {
   "cell_type": "code",
   "execution_count": 5,
   "id": "691c5858",
   "metadata": {},
   "outputs": [
    {
     "name": "stdout",
     "output_type": "stream",
     "text": [
      "<class 'pandas.core.frame.DataFrame'>\n",
      "RangeIndex: 1481 entries, 0 to 1480\n",
      "Data columns (total 10 columns):\n",
      " #   Column       Non-Null Count  Dtype  \n",
      "---  ------       --------------  -----  \n",
      " 0   unix         1481 non-null   float64\n",
      " 1   date         1481 non-null   object \n",
      " 2   symbol       1481 non-null   object \n",
      " 3   open         1481 non-null   float64\n",
      " 4   high         1481 non-null   float64\n",
      " 5   low          1481 non-null   float64\n",
      " 6   close        1481 non-null   float64\n",
      " 7   Volume ETH   1481 non-null   float64\n",
      " 8   Volume USDT  1481 non-null   float64\n",
      " 9   tradecount   1357 non-null   float64\n",
      "dtypes: float64(8), object(2)\n",
      "memory usage: 115.8+ KB\n"
     ]
    }
   ],
   "source": [
    "data.info()"
   ]
  },
  {
   "cell_type": "code",
   "execution_count": 7,
   "id": "ca50c5de",
   "metadata": {},
   "outputs": [
    {
     "data": {
      "text/plain": [
       "Index(['unix', 'date', 'symbol', 'open', 'high', 'low', 'close', 'Volume ETH',\n",
       "       'Volume USDT', 'tradecount'],\n",
       "      dtype='object')"
      ]
     },
     "execution_count": 7,
     "metadata": {},
     "output_type": "execute_result"
    }
   ],
   "source": [
    "data.columns"
   ]
  },
  {
   "cell_type": "code",
   "execution_count": 19,
   "id": "96e89246",
   "metadata": {},
   "outputs": [
    {
     "name": "stdout",
     "output_type": "stream",
     "text": [
      "<class 'pandas.core.frame.DataFrame'>\n",
      "RangeIndex: 1481 entries, 0 to 1480\n",
      "Data columns (total 9 columns):\n",
      " #   Column       Non-Null Count  Dtype  \n",
      "---  ------       --------------  -----  \n",
      " 0   date         1481 non-null   object \n",
      " 1   symbol       1481 non-null   object \n",
      " 2   open         1481 non-null   float64\n",
      " 3   high         1481 non-null   float64\n",
      " 4   low          1481 non-null   float64\n",
      " 5   close        1481 non-null   float64\n",
      " 6   Volume ETH   1481 non-null   float64\n",
      " 7   Volume USDT  1481 non-null   float64\n",
      " 8   tradecount   1357 non-null   float64\n",
      "dtypes: float64(7), object(2)\n",
      "memory usage: 104.3+ KB\n"
     ]
    }
   ],
   "source": [
    "\n",
    "data.tail()\n",
    "data.info()"
   ]
  },
  {
   "cell_type": "code",
   "execution_count": null,
   "id": "5dc4432b",
   "metadata": {},
   "outputs": [],
   "source": []
  }
 ],
 "metadata": {
  "kernelspec": {
   "display_name": "Python 3",
   "language": "python",
   "name": "python3"
  },
  "language_info": {
   "codemirror_mode": {
    "name": "ipython",
    "version": 3
   },
   "file_extension": ".py",
   "mimetype": "text/x-python",
   "name": "python",
   "nbconvert_exporter": "python",
   "pygments_lexer": "ipython3",
   "version": "3.8.8"
  }
 },
 "nbformat": 4,
 "nbformat_minor": 5
}
